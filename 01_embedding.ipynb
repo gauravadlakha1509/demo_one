{
 "cells": [
  {
   "cell_type": "code",
   "execution_count": null,
   "id": "068576a6",
   "metadata": {},
   "outputs": [],
   "source": [
    "# default_exp embedding"
   ]
  },
  {
   "cell_type": "code",
   "execution_count": null,
   "id": "9e0a020a",
   "metadata": {},
   "outputs": [],
   "source": [
    "#hide\n",
    "from nbdev.showdoc import *\n",
    "from fastcore.test import *"
   ]
  },
  {
   "cell_type": "code",
   "execution_count": null,
   "id": "051428e9",
   "metadata": {},
   "outputs": [],
   "source": [
    "#export\n",
    "import torch\n",
    "import torch.nn as nn\n",
    "\n",
    "emb = nn.Embedding(10, 3)\n",
    "\n",
    "list(emb.parameters())\n",
    "\n",
    "input = torch.tensor([1])\n",
    "\n",
    "emb(input)\n",
    "\n",
    "class Net(nn.Module):\n",
    "    def __init__(self):\n",
    "        super().__init__()\n",
    "        self.to_learn = nn.Embedding(10, 5)\n",
    "        self.to_comapre_with = nn.Embedding(10, 5)\n",
    "\n",
    "    def forward(self, input):\n",
    "        return self.to_learn(input.long()) + self.to_comapre_with(input.long())\n",
    "\n",
    "model = Net()\n",
    "\n",
    "list(model.parameters())\n",
    "\n",
    "model.to_comapre_with.requires_grad_(requires_grad=False)\n",
    "\n",
    "list(model.parameters())\n",
    "\n",
    "optim = torch.optim.SGD(model.parameters(), lr=0.01)\n",
    "\n",
    "for i in range(1000):\n",
    "    input = torch.randperm(10).float()\n",
    "    input.requires_grad = True\n",
    "    optim.zero_grad()\n",
    "\n",
    "    loss = model(input).abs().sum()\n",
    "    loss.backward()\n",
    "\n",
    "    optim.step()\n",
    "    print(loss)\n",
    "\n",
    "list(model.parameters())\n",
    "\n",
    "list(model.parameters())[0]\n",
    "\n",
    "w = torch.FloatTensor([[1, 2, 3, 4], [4, 5, 6, 7]])\n",
    "\n",
    "emp = nn.Embedding.from_pretrained(w)\n",
    "\n",
    "list(emp.parameters())\n",
    "\n",
    "input = torch.LongTensor([1])\n",
    "\n",
    "emp(input)"
   ]
  }
 ],
 "metadata": {
  "kernelspec": {
   "display_name": "Python 3 (ipykernel)",
   "language": "python",
   "name": "python3"
  }
 },
 "nbformat": 4,
 "nbformat_minor": 5
}
